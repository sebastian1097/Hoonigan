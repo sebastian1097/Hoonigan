{
  "nbformat": 4,
  "nbformat_minor": 0,
  "metadata": {
    "colab": {
      "name": "Welcome To Colaboratory",
      "provenance": [],
      "collapsed_sections": [],
      "include_colab_link": true
    },
    "kernelspec": {
      "display_name": "Python 3",
      "name": "python3"
    }
  },
  "cells": [
    {
      "cell_type": "markdown",
      "metadata": {
        "id": "view-in-github",
        "colab_type": "text"
      },
      "source": [
        "<a href=\"https://colab.research.google.com/github/sebastian1097/Hoonigan/blob/master/Welcome_To_Colaboratory.ipynb\" target=\"_parent\"><img src=\"https://colab.research.google.com/assets/colab-badge.svg\" alt=\"Open In Colab\"/></a>"
      ]
    },
    {
      "cell_type": "code",
      "metadata": {
        "id": "lOIEfq2NV3kw",
        "colab_type": "code",
        "colab": {}
      },
      "source": [
        "age = int(input(\"¿Cuál es tu edad? \"))\n",
        "if age < 18: \n",
        "    print (\"Eres menor de edad.\")\n",
        "else:\n",
        "    print(\"Eres mayor de edad.\")"
      ],
      "execution_count": 0,
      "outputs": []
    },
    {
      "cell_type": "code",
      "metadata": {
        "id": "dNCxzIOiVe2N",
        "colab_type": "code",
        "colab": {}
      },
      "source": [
        ""
      ],
      "execution_count": 0,
      "outputs": []
    },
    {
      "cell_type": "code",
      "metadata": {
        "id": "eic10HxSdXh4",
        "colab_type": "code",
        "colab": {}
      },
      "source": [
        ""
      ],
      "execution_count": 0,
      "outputs": []
    },
    {
      "cell_type": "code",
      "metadata": {
        "id": "upMCsM0uXjWB",
        "colab_type": "code",
        "colab": {}
      },
      "source": [
        "n = float(input(\"Introduce el dividendo: \"))\n",
        "m = float(input(\"Introduce el divisior: \"))\n",
        "if m == 0:\n",
        "    print(\"¡Error! No se puede dividir por 0.\")\n",
        "else:\n",
        "    print(n/m)"
      ],
      "execution_count": 0,
      "outputs": []
    },
    {
      "cell_type": "code",
      "metadata": {
        "id": "Lhj7XP_cYKA6",
        "colab_type": "code",
        "colab": {}
      },
      "source": [
        ""
      ],
      "execution_count": 0,
      "outputs": []
    },
    {
      "cell_type": "code",
      "metadata": {
        "id": "pTIok4fqYjSW",
        "colab_type": "code",
        "colab": {}
      },
      "source": [
        "n = float(input(\"Introduce el dividendo: \"))\n",
        "m = float(input(\"Introduce el divisior: \"))\n",
        "if m == 0:\n",
        "    print(\"¡Error! No se puede dividir por 0.\")\n",
        "else:\n",
        "    print(n/m)"
      ],
      "execution_count": 0,
      "outputs": []
    },
    {
      "cell_type": "code",
      "metadata": {
        "id": "Qp_CAhvnYqGo",
        "colab_type": "code",
        "colab": {}
      },
      "source": [
        ""
      ],
      "execution_count": 0,
      "outputs": []
    },
    {
      "cell_type": "code",
      "metadata": {
        "id": "nms-O6PXZGJB",
        "colab_type": "code",
        "outputId": "609fd235-3d87-4772-b60c-8f707713f0e1",
        "colab": {}
      },
      "source": [
        "edad = int(input(\"Introduce tu edad: \"))\n",
        "# Decisión del precio en función de la edad\n",
        "if edad < 4:\n",
        "    precio = 0\n",
        "elif edad <= 18:\n",
        "    precio = 4\n",
        "else:\n",
        "    precio = 10\n",
        "# Mostrar precio\n",
        "print(\"El precio de la entrada es\", precio, \"€.\")"
      ],
      "execution_count": 0,
      "outputs": [
        {
          "output_type": "stream",
          "text": [
            "El precio de la entrada es 4 €.\n"
          ],
          "name": "stdout"
        }
      ]
    }
  ]
}